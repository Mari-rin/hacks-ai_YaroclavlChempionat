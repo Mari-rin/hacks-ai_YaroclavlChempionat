{
 "cells": [
  {
   "cell_type": "markdown",
   "id": "imported-butler",
   "metadata": {},
   "source": [
    "## Цифровой Прорыв 2022, Чемпионат Ярославской Области\n",
    "Выполнила Шушпанова Мария.\n",
    "\n",
    "Загрузим необходимые для работы библиотеки, инициализируем датасеты для обучения и теста. Для удобства загружаем уже категоризованные значения колонок из датасетов. Применяем функцию для очистки датасета."
   ]
  },
  {
   "cell_type": "code",
   "execution_count": 1,
   "id": "relevant-oregon",
   "metadata": {},
   "outputs": [],
   "source": [
    "import pandas as pd\n",
    "import numpy as np\n",
    "from itertools import combinations\n",
    "from scipy.stats import ttest_ind\n",
    "from sklearn.model_selection import train_test_split\n",
    "from lightgbm import LGBMClassifier\n",
    "import lightgbm as lgm\n",
    "from sklearn.metrics import recall_score\n",
    "from tqdm import tqdm, trange\n",
    "import warnings\n",
    "warnings.filterwarnings(\"ignore\", category=RuntimeWarning) "
   ]
  },
  {
   "cell_type": "code",
   "execution_count": 2,
   "id": "automotive-economy",
   "metadata": {},
   "outputs": [],
   "source": [
    "train = pd.read_csv('train.csv')\n",
    "test = pd.read_csv('test_dataset_test.csv')"
   ]
  },
  {
   "cell_type": "code",
   "execution_count": 3,
   "id": "consecutive-interaction",
   "metadata": {},
   "outputs": [],
   "source": [
    "religion = pd.read_csv('religion.csv', sep=';', encoding='cp1251')\n",
    "sex = pd.read_csv('sex.csv', sep=';', encoding='cp1251')\n",
    "family = pd.read_csv('family.csv', sep=';', encoding='cp1251')\n",
    "education = pd.read_csv('education.csv',  sep=';', encoding='cp1251')\n",
    "ethnos = pd.read_csv('ethnos.csv',  sep=';', encoding='cp1251')\n",
    "profession = pd.read_csv('profession.csv',  sep=';', encoding='cp1251')\n",
    "nationality = pd.read_csv('nationality.csv',  sep=';', encoding='cp1251')"
   ]
  },
  {
   "cell_type": "code",
   "execution_count": 4,
   "id": "welcome-student",
   "metadata": {},
   "outputs": [],
   "source": [
    "def get_clean_df(df: pd.DataFrame, df_dop1: pd.DataFrame, df_dop2: pd.DataFrame, df_dop3: pd.DataFrame, df_dop4: pd.DataFrame,\n",
    "                df_dop5: pd.DataFrame, df_dop6: pd.DataFrame, df_dop7: pd.DataFrame) -> pd.DataFrame:\n",
    "    \n",
    "\n",
    "    df['Частота пасс кур'] = df['Частота пасс кур'].apply(lambda x: str(x).replace('1-2 раза в неделю', '1').replace('3-6 раз в неделю', '2').replace('не менее 1 раза в день', '3').replace('2-3 раза в день', '4').replace('4 и более раз в день', '5').replace('nan', '-1'))\n",
    "    df['Частота пасс кур'] = df['Частота пасс кур'].astype(int)\n",
    "    \n",
    "    df['Алкоголь'] = df['Алкоголь'].apply(lambda x: str(x).replace('употребляю в настоящее время', '1').replace('никогда не употреблял', '0').replace('ранее употреблял', '2').replace('nan', '-1'))\n",
    "    df['Алкоголь'] = df['Алкоголь'].astype(int)\n",
    "    \n",
    "    df['Статус Курения'] = df['Статус Курения'].apply(lambda x: str(x).replace('Никогда не курил(а)', '0').replace('Никогда не курил', '0').replace('Курит', '1').replace('Бросил(а)', '2'))\n",
    "    df['Статус Курения'] = df['Статус Курения'].astype(int)\n",
    "    \n",
    "    df['Время пробуждения'] = df['Время пробуждения'].apply(lambda x: ''.join(x.split())[:-3])\n",
    "    df['Время пробуждения'] = df['Время пробуждения'].apply(lambda x: x.replace(':', '.'))\n",
    "    df['Время пробуждения'] = df['Время пробуждения'].astype(float)\n",
    "    \n",
    "    df['Время засыпания'] = df['Время засыпания'].apply(lambda x: ''.join(x.split())[:-3])\n",
    "    df['Время засыпания'] = df['Время засыпания'].apply(lambda x: x.replace(':', '.'))\n",
    "    df['Время засыпания'] = df['Время засыпания'].astype(float)\n",
    "    \n",
    "    df = pd.merge(df, df_dop1, on='Пол', how='left')\n",
    "    df = pd.merge(df, df_dop2, on='Семья', how='left')\n",
    "    df = pd.merge(df, df_dop3, on='Образование', how='left')\n",
    "    df = pd.merge(df, df_dop4, on='Этнос', how='left')\n",
    "    df = pd.merge(df, df_dop5, on='Профессия', how='left')\n",
    "    df = pd.merge(df, df_dop6, on='Национальность', how='left')\n",
    "    df = pd.merge(df, df_dop7, on='Религия', how='left')\n",
    "    \n",
    "    df = df.fillna(-1)\n",
    "\n",
    "    \n",
    "    return df"
   ]
  },
  {
   "cell_type": "markdown",
   "id": "silver-appointment",
   "metadata": {},
   "source": [
    "Состояние тренировочного датасета до применения функции"
   ]
  },
  {
   "cell_type": "code",
   "execution_count": 5,
   "id": "interracial-freeze",
   "metadata": {},
   "outputs": [
    {
     "name": "stdout",
     "output_type": "stream",
     "text": [
      "<class 'pandas.core.frame.DataFrame'>\n",
      "RangeIndex: 955 entries, 0 to 954\n",
      "Data columns (total 39 columns):\n",
      " #   Column                                 Non-Null Count  Dtype  \n",
      "---  ------                                 --------------  -----  \n",
      " 0   ID                                     955 non-null    object \n",
      " 1   Пол                                    954 non-null    object \n",
      " 2   Семья                                  955 non-null    object \n",
      " 3   Этнос                                  955 non-null    object \n",
      " 4   Национальность                         955 non-null    object \n",
      " 5   Религия                                955 non-null    object \n",
      " 6   Образование                            955 non-null    object \n",
      " 7   Профессия                              955 non-null    object \n",
      " 8   Вы работаете?                          955 non-null    int64  \n",
      " 9   Выход на пенсию                        955 non-null    int64  \n",
      " 10  Прекращение работы по болезни          955 non-null    int64  \n",
      " 11  Сахарный диабет                        955 non-null    int64  \n",
      " 12  Гепатит                                955 non-null    int64  \n",
      " 13  Онкология                              955 non-null    int64  \n",
      " 14  Хроническое заболевание легких         955 non-null    int64  \n",
      " 15  Бронжиальная астма                     955 non-null    int64  \n",
      " 16  Туберкулез легких                      955 non-null    int64  \n",
      " 17  ВИЧ/СПИД                               955 non-null    int64  \n",
      " 18  Регулярный прим лекарственных средств  955 non-null    int64  \n",
      " 19  Травмы за год                          955 non-null    int64  \n",
      " 20  Переломы                               955 non-null    int64  \n",
      " 21  Статус Курения                         955 non-null    object \n",
      " 22  Возраст курения                        412 non-null    float64\n",
      " 23  Сигарет в день                         409 non-null    float64\n",
      " 24  Пассивное курение                      955 non-null    int64  \n",
      " 25  Частота пасс кур                       223 non-null    object \n",
      " 26  Алкоголь                               955 non-null    object \n",
      " 27  Возраст алког                          788 non-null    float64\n",
      " 28  Время засыпания                        955 non-null    object \n",
      " 29  Время пробуждения                      955 non-null    object \n",
      " 30  Сон после обеда                        955 non-null    int64  \n",
      " 31  Спорт, клубы                           955 non-null    int64  \n",
      " 32  Религия, клубы                         955 non-null    int64  \n",
      " 33  ID_y                                   955 non-null    object \n",
      " 34  Артериальная гипертензия               955 non-null    int64  \n",
      " 35  ОНМК                                   955 non-null    int64  \n",
      " 36  Стенокардия, ИБС, инфаркт миокарда     955 non-null    int64  \n",
      " 37  Сердечная недостаточность              955 non-null    int64  \n",
      " 38  Прочие заболевания сердца              955 non-null    int64  \n",
      "dtypes: float64(3), int64(22), object(14)\n",
      "memory usage: 291.1+ KB\n"
     ]
    }
   ],
   "source": [
    "train.info()"
   ]
  },
  {
   "cell_type": "markdown",
   "id": "minor-literature",
   "metadata": {},
   "source": [
    "Тренировочный датасет после применения функции."
   ]
  },
  {
   "cell_type": "code",
   "execution_count": 6,
   "id": "personal-driver",
   "metadata": {},
   "outputs": [
    {
     "name": "stdout",
     "output_type": "stream",
     "text": [
      "<class 'pandas.core.frame.DataFrame'>\n",
      "Int64Index: 955 entries, 0 to 954\n",
      "Data columns (total 46 columns):\n",
      " #   Column                                 Non-Null Count  Dtype  \n",
      "---  ------                                 --------------  -----  \n",
      " 0   ID                                     955 non-null    object \n",
      " 1   Пол                                    955 non-null    object \n",
      " 2   Семья                                  955 non-null    object \n",
      " 3   Этнос                                  955 non-null    object \n",
      " 4   Национальность                         955 non-null    object \n",
      " 5   Религия                                955 non-null    object \n",
      " 6   Образование                            955 non-null    object \n",
      " 7   Профессия                              955 non-null    object \n",
      " 8   Вы работаете?                          955 non-null    int64  \n",
      " 9   Выход на пенсию                        955 non-null    int64  \n",
      " 10  Прекращение работы по болезни          955 non-null    int64  \n",
      " 11  Сахарный диабет                        955 non-null    int64  \n",
      " 12  Гепатит                                955 non-null    int64  \n",
      " 13  Онкология                              955 non-null    int64  \n",
      " 14  Хроническое заболевание легких         955 non-null    int64  \n",
      " 15  Бронжиальная астма                     955 non-null    int64  \n",
      " 16  Туберкулез легких                      955 non-null    int64  \n",
      " 17  ВИЧ/СПИД                               955 non-null    int64  \n",
      " 18  Регулярный прим лекарственных средств  955 non-null    int64  \n",
      " 19  Травмы за год                          955 non-null    int64  \n",
      " 20  Переломы                               955 non-null    int64  \n",
      " 21  Статус Курения                         955 non-null    int32  \n",
      " 22  Возраст курения                        955 non-null    float64\n",
      " 23  Сигарет в день                         955 non-null    float64\n",
      " 24  Пассивное курение                      955 non-null    int64  \n",
      " 25  Частота пасс кур                       955 non-null    int32  \n",
      " 26  Алкоголь                               955 non-null    int32  \n",
      " 27  Возраст алког                          955 non-null    float64\n",
      " 28  Время засыпания                        955 non-null    float64\n",
      " 29  Время пробуждения                      955 non-null    float64\n",
      " 30  Сон после обеда                        955 non-null    int64  \n",
      " 31  Спорт, клубы                           955 non-null    int64  \n",
      " 32  Религия, клубы                         955 non-null    int64  \n",
      " 33  ID_y                                   955 non-null    object \n",
      " 34  Артериальная гипертензия               955 non-null    int64  \n",
      " 35  ОНМК                                   955 non-null    int64  \n",
      " 36  Стенокардия, ИБС, инфаркт миокарда     955 non-null    int64  \n",
      " 37  Сердечная недостаточность              955 non-null    int64  \n",
      " 38  Прочие заболевания сердца              955 non-null    int64  \n",
      " 39  пол_цифра                              955 non-null    float64\n",
      " 40  семья_цифра                            955 non-null    int64  \n",
      " 41  образование_цифра                      955 non-null    int64  \n",
      " 42  Этнос_цифра                            955 non-null    int64  \n",
      " 43  профессия_цифра                        955 non-null    float64\n",
      " 44  национальность_цифра                   955 non-null    int64  \n",
      " 45  религия_цифра                          955 non-null    int64  \n",
      "dtypes: float64(7), int32(3), int64(27), object(9)\n",
      "memory usage: 339.5+ KB\n"
     ]
    }
   ],
   "source": [
    "train = get_clean_df(train, sex, family, education, ethnos, profession, nationality, religion)\n",
    "train.info()"
   ]
  },
  {
   "cell_type": "markdown",
   "id": "frozen-gross",
   "metadata": {},
   "source": [
    "Найдем статистически значимые колонки при помощи t-критерия Стьюдента в тренировочном датасете для каждого сердечно-сосудистого заболевания, которые позже будут передаваться в машину."
   ]
  },
  {
   "cell_type": "code",
   "execution_count": 7,
   "id": "quiet-phase",
   "metadata": {},
   "outputs": [],
   "source": [
    "columns_train = [x for x in train.columns if x not in ['Прочие заболевания сердца', 'Сердечная недостаточность', \n",
    "                                                       'Стенокардия, ИБС, инфаркт миокарда', 'ОНМК', 'Артериальная гипертензия',\n",
    "                                                       'ID', 'ID_y', 'Религия', 'Профессия', 'Этнос', 'Семья', \n",
    "                                                       'Религия', 'Образование', 'Национальность', 'Пол']]"
   ]
  },
  {
   "cell_type": "code",
   "execution_count": 8,
   "id": "ranking-geography",
   "metadata": {},
   "outputs": [],
   "source": [
    "def ttest_all(column_name, alfa, target, list_name):\n",
    "    unique = train[column_name].unique()\n",
    "    combination = list(combinations(unique, 2))\n",
    "\n",
    "    for i in combination:\n",
    "        A = train[train[column_name] == i[0]][target]\n",
    "        B = train[train[column_name] == i[1]][target]\n",
    "\n",
    "        pvalue = ttest_ind(A, B).pvalue\n",
    "\n",
    "        if pvalue <= alfa/len(combination): \n",
    "            print('Есть статистическая значимость для колонки ', target, ' в колонке ', column_name)\n",
    "            list_name.append(column_name)\n",
    "            break"
   ]
  },
  {
   "cell_type": "code",
   "execution_count": 9,
   "id": "stylish-national",
   "metadata": {},
   "outputs": [
    {
     "name": "stdout",
     "output_type": "stream",
     "text": [
      "Есть статистическая значимость для колонки  Артериальная гипертензия  в колонке  Вы работаете?\n",
      "Есть статистическая значимость для колонки  Артериальная гипертензия  в колонке  Выход на пенсию\n",
      "Есть статистическая значимость для колонки  Артериальная гипертензия  в колонке  Сахарный диабет\n",
      "Есть статистическая значимость для колонки  Артериальная гипертензия  в колонке  Онкология\n",
      "Есть статистическая значимость для колонки  Артериальная гипертензия  в колонке  Хроническое заболевание легких\n",
      "Есть статистическая значимость для колонки  Артериальная гипертензия  в колонке  Бронжиальная астма\n",
      "Есть статистическая значимость для колонки  Артериальная гипертензия  в колонке  Регулярный прим лекарственных средств\n",
      "Есть статистическая значимость для колонки  Артериальная гипертензия  в колонке  Переломы\n",
      "Есть статистическая значимость для колонки  Артериальная гипертензия  в колонке  Статус Курения\n",
      "Есть статистическая значимость для колонки  Артериальная гипертензия  в колонке  Возраст алког\n",
      "Есть статистическая значимость для колонки  Артериальная гипертензия  в колонке  Время пробуждения\n",
      "Есть статистическая значимость для колонки  Артериальная гипертензия  в колонке  Сон после обеда\n",
      "Есть статистическая значимость для колонки  Артериальная гипертензия  в колонке  пол_цифра\n",
      "Есть статистическая значимость для колонки  Артериальная гипертензия  в колонке  семья_цифра\n",
      "Есть статистическая значимость для колонки  Артериальная гипертензия  в колонке  образование_цифра\n",
      "Есть статистическая значимость для колонки  Артериальная гипертензия  в колонке  национальность_цифра\n"
     ]
    }
   ],
   "source": [
    "feats_gipertenzia = []\n",
    "\n",
    "for i in columns_train:\n",
    "    ttest_all(i, 0.05, 'Артериальная гипертензия', feats_gipertenzia)\n",
    "    \n",
    "feats_gipertenzia = feats_gipertenzia[:9]"
   ]
  },
  {
   "cell_type": "code",
   "execution_count": 10,
   "id": "settled-joshua",
   "metadata": {},
   "outputs": [
    {
     "name": "stdout",
     "output_type": "stream",
     "text": [
      "Есть статистическая значимость для колонки  ОНМК  в колонке  Вы работаете?\n",
      "Есть статистическая значимость для колонки  ОНМК  в колонке  Выход на пенсию\n",
      "Есть статистическая значимость для колонки  ОНМК  в колонке  Прекращение работы по болезни\n",
      "Есть статистическая значимость для колонки  ОНМК  в колонке  Регулярный прим лекарственных средств\n",
      "Есть статистическая значимость для колонки  ОНМК  в колонке  Переломы\n",
      "Есть статистическая значимость для колонки  ОНМК  в колонке  Возраст курения\n",
      "Есть статистическая значимость для колонки  ОНМК  в колонке  Время пробуждения\n",
      "Есть статистическая значимость для колонки  ОНМК  в колонке  Сон после обеда\n",
      "Есть статистическая значимость для колонки  ОНМК  в колонке  пол_цифра\n",
      "Есть статистическая значимость для колонки  ОНМК  в колонке  образование_цифра\n"
     ]
    }
   ],
   "source": [
    "feats_onmk = []\n",
    "\n",
    "for i in columns_train:\n",
    "    ttest_all(i, 0.1, 'ОНМК', feats_onmk)\n",
    "    \n",
    "feats_onmk = feats_onmk[:5]"
   ]
  },
  {
   "cell_type": "code",
   "execution_count": 11,
   "id": "velvet-prefix",
   "metadata": {},
   "outputs": [
    {
     "name": "stdout",
     "output_type": "stream",
     "text": [
      "Есть статистическая значимость для колонки  Стенокардия, ИБС, инфаркт миокарда  в колонке  Вы работаете?\n",
      "Есть статистическая значимость для колонки  Стенокардия, ИБС, инфаркт миокарда  в колонке  Выход на пенсию\n",
      "Есть статистическая значимость для колонки  Стенокардия, ИБС, инфаркт миокарда  в колонке  Прекращение работы по болезни\n",
      "Есть статистическая значимость для колонки  Стенокардия, ИБС, инфаркт миокарда  в колонке  Сахарный диабет\n",
      "Есть статистическая значимость для колонки  Стенокардия, ИБС, инфаркт миокарда  в колонке  Туберкулез легких \n",
      "Есть статистическая значимость для колонки  Стенокардия, ИБС, инфаркт миокарда  в колонке  Регулярный прим лекарственных средств\n",
      "Есть статистическая значимость для колонки  Стенокардия, ИБС, инфаркт миокарда  в колонке  Переломы\n",
      "Есть статистическая значимость для колонки  Стенокардия, ИБС, инфаркт миокарда  в колонке  Алкоголь\n",
      "Есть статистическая значимость для колонки  Стенокардия, ИБС, инфаркт миокарда  в колонке  образование_цифра\n"
     ]
    }
   ],
   "source": [
    "feats_stenokardia = []\n",
    "\n",
    "for i in columns_train:\n",
    "    ttest_all(i, 0.05, 'Стенокардия, ИБС, инфаркт миокарда', feats_stenokardia)\n",
    "    \n",
    "feats_stenokardia = feats_stenokardia[:7]"
   ]
  },
  {
   "cell_type": "code",
   "execution_count": 12,
   "id": "bridal-yemen",
   "metadata": {},
   "outputs": [
    {
     "name": "stdout",
     "output_type": "stream",
     "text": [
      "Есть статистическая значимость для колонки  Сердечная недостаточность  в колонке  Вы работаете?\n",
      "Есть статистическая значимость для колонки  Сердечная недостаточность  в колонке  Выход на пенсию\n",
      "Есть статистическая значимость для колонки  Сердечная недостаточность  в колонке  Прекращение работы по болезни\n",
      "Есть статистическая значимость для колонки  Сердечная недостаточность  в колонке  Сахарный диабет\n",
      "Есть статистическая значимость для колонки  Сердечная недостаточность  в колонке  Бронжиальная астма\n",
      "Есть статистическая значимость для колонки  Сердечная недостаточность  в колонке  Регулярный прим лекарственных средств\n",
      "Есть статистическая значимость для колонки  Сердечная недостаточность  в колонке  Переломы\n",
      "Есть статистическая значимость для колонки  Сердечная недостаточность  в колонке  Статус Курения\n",
      "Есть статистическая значимость для колонки  Сердечная недостаточность  в колонке  Частота пасс кур\n",
      "Есть статистическая значимость для колонки  Сердечная недостаточность  в колонке  Алкоголь\n",
      "Есть статистическая значимость для колонки  Сердечная недостаточность  в колонке  Возраст алког\n",
      "Есть статистическая значимость для колонки  Сердечная недостаточность  в колонке  пол_цифра\n",
      "Есть статистическая значимость для колонки  Сердечная недостаточность  в колонке  семья_цифра\n",
      "Есть статистическая значимость для колонки  Сердечная недостаточность  в колонке  образование_цифра\n"
     ]
    }
   ],
   "source": [
    "feats_serd_ned = []\n",
    "\n",
    "for i in columns_train:\n",
    "    ttest_all(i, 0.1, 'Сердечная недостаточность', feats_serd_ned)\n",
    "    \n",
    "feats_serd_ned = feats_serd_ned[:8]"
   ]
  },
  {
   "cell_type": "code",
   "execution_count": 13,
   "id": "introductory-accordance",
   "metadata": {},
   "outputs": [
    {
     "name": "stdout",
     "output_type": "stream",
     "text": [
      "Есть статистическая значимость для колонки  Прочие заболевания сердца  в колонке  Регулярный прим лекарственных средств\n",
      "Есть статистическая значимость для колонки  Прочие заболевания сердца  в колонке  Возраст алког\n",
      "Есть статистическая значимость для колонки  Прочие заболевания сердца  в колонке  профессия_цифра\n"
     ]
    }
   ],
   "source": [
    "feats_prochee = []\n",
    "\n",
    "for i in columns_train:\n",
    "    ttest_all(i, 0.01,'Прочие заболевания сердца', feats_prochee)\n",
    "    \n",
    "feats_prochee = feats_prochee[:1]"
   ]
  },
  {
   "cell_type": "markdown",
   "id": "dangerous-stone",
   "metadata": {},
   "source": [
    "Инициализируем машины для предсказаний каждого из заболеваний."
   ]
  },
  {
   "cell_type": "code",
   "execution_count": 14,
   "id": "conventional-dollar",
   "metadata": {},
   "outputs": [],
   "source": [
    "model_lgbm_gip = lgm.LGBMClassifier(boosting_type = 'gbdt', max_depth=10, n_estimators=200, learning_rate=0.1, \n",
    "                                    is_unbalance=True, num_leaves = 50, metric='binary_logloss', objective='binary')\n",
    "\n",
    "model_lgbm_onmk = lgm.LGBMClassifier(boosting_type = 'gbdt', max_depth=10, n_estimators=200, learning_rate=0.1, \n",
    "                                     is_unbalance=True, num_leaves = 50, metric='binary_logloss', objective='binary')\n",
    "\n",
    "model_lgbm_sten = lgm.LGBMClassifier(boosting_type = 'gbdt', max_depth=10, n_estimators=200, learning_rate=0.1, \n",
    "                                     is_unbalance=True, num_leaves = 50, metric='binary_logloss', objective='binary')\n",
    "\n",
    "model_lgbm_serd_ned = lgm.LGBMClassifier(boosting_type = 'gbdt', max_depth=10, n_estimators=200, learning_rate=0.1, \n",
    "                                         is_unbalance=True, num_leaves = 50, metric='binary_logloss', objective='binary')\n",
    "\n",
    "model_lgbm_prochee = lgm.LGBMClassifier(boosting_type = 'gbdt', max_depth=10, n_estimators=200, learning_rate=0.1, \n",
    "                                        is_unbalance=True, num_leaves = 50, metric='binary_logloss', objective='binary')"
   ]
  },
  {
   "cell_type": "markdown",
   "id": "heated-sterling",
   "metadata": {},
   "source": [
    "Разделим обучающий датасет на тренировочный и на валидационный датасеты, чтобы проверить ключевую метрику - recall."
   ]
  },
  {
   "cell_type": "code",
   "execution_count": 15,
   "id": "broadband-synthetic",
   "metadata": {},
   "outputs": [],
   "source": [
    "train_gip, val_gip = train_test_split(train, train_size=0.8, random_state=42)"
   ]
  },
  {
   "cell_type": "code",
   "execution_count": 16,
   "id": "northern-christopher",
   "metadata": {},
   "outputs": [],
   "source": [
    "train_gipertenizia = train_gip[feats_gipertenzia]\n",
    "y_gipertenizia = train_gip['Артериальная гипертензия']\n",
    "\n",
    "val_gipertenizia = val_gip[feats_gipertenzia]\n",
    "y_val_gip = val_gip['Артериальная гипертензия']\n",
    "\n",
    "train_onmk = train_gip[feats_onmk]\n",
    "y_onmk = train_gip['ОНМК']\n",
    "\n",
    "val_onmk = val_gip[feats_onmk]\n",
    "y_val_onmk = val_gip['ОНМК']\n",
    "\n",
    "train_sten = train_gip[feats_stenokardia]\n",
    "y_sten = train_gip['Стенокардия, ИБС, инфаркт миокарда']\n",
    "\n",
    "val_sten = val_gip[feats_stenokardia]\n",
    "y_val_sten = val_gip['Стенокардия, ИБС, инфаркт миокарда']\n",
    "\n",
    "train_serd_ned = train_gip[feats_serd_ned]\n",
    "y_serd_ned = train_gip['Сердечная недостаточность']\n",
    "\n",
    "val_serd_ned = val_gip[feats_serd_ned]\n",
    "y_val_serd_ned = val_gip['Сердечная недостаточность']\n",
    "\n",
    "train_prochee = train_gip[feats_prochee]\n",
    "y_prochee = train_gip['Прочие заболевания сердца']\n",
    "\n",
    "val_prochee = val_gip[feats_prochee]\n",
    "y_val_prochee = val_gip['Прочие заболевания сердца']"
   ]
  },
  {
   "cell_type": "code",
   "execution_count": 17,
   "id": "registered-jonathan",
   "metadata": {},
   "outputs": [
    {
     "name": "stderr",
     "output_type": "stream",
     "text": [
      "100%|████████████████████████████████████████████████████████████████████████████████████████████| 50/50 [00:03<00:00, 14.03it/s]\n"
     ]
    }
   ],
   "source": [
    "for _ in trange(50):\n",
    "    model_lgbm_gip.fit(train_gipertenizia, y_gipertenizia)"
   ]
  },
  {
   "cell_type": "code",
   "execution_count": 18,
   "id": "architectural-jacket",
   "metadata": {},
   "outputs": [
    {
     "name": "stderr",
     "output_type": "stream",
     "text": [
      "100%|███████████████████████████████████████████████████████████████████████████████████████████| 50/50 [00:00<00:00, 399.91it/s]\n"
     ]
    }
   ],
   "source": [
    "for _ in trange(50):\n",
    "    gip_pred = model_lgbm_gip.predict(val_gipertenizia)"
   ]
  },
  {
   "cell_type": "markdown",
   "id": "governing-hobby",
   "metadata": {},
   "source": [
    "Recall для артериальной гипертензии."
   ]
  },
  {
   "cell_type": "code",
   "execution_count": 19,
   "id": "approximate-technician",
   "metadata": {},
   "outputs": [
    {
     "data": {
      "text/plain": [
       "0.7191011235955056"
      ]
     },
     "execution_count": 19,
     "metadata": {},
     "output_type": "execute_result"
    }
   ],
   "source": [
    "recall_score(y_val_gip, gip_pred)"
   ]
  },
  {
   "cell_type": "code",
   "execution_count": 20,
   "id": "intermediate-image",
   "metadata": {},
   "outputs": [
    {
     "name": "stderr",
     "output_type": "stream",
     "text": [
      "100%|████████████████████████████████████████████████████████████████████████████████████████████| 50/50 [00:02<00:00, 22.59it/s]\n"
     ]
    }
   ],
   "source": [
    "for _ in trange(50):\n",
    "    model_lgbm_onmk.fit(train_onmk, y_onmk)"
   ]
  },
  {
   "cell_type": "code",
   "execution_count": 21,
   "id": "dental-chocolate",
   "metadata": {},
   "outputs": [
    {
     "name": "stderr",
     "output_type": "stream",
     "text": [
      "100%|███████████████████████████████████████████████████████████████████████████████████████████| 50/50 [00:00<00:00, 458.58it/s]\n"
     ]
    }
   ],
   "source": [
    "for _ in trange(50):\n",
    "    onmk_pred = model_lgbm_onmk.predict(val_onmk)"
   ]
  },
  {
   "cell_type": "markdown",
   "id": "rotary-manchester",
   "metadata": {},
   "source": [
    "Recall для ОНМК."
   ]
  },
  {
   "cell_type": "code",
   "execution_count": 22,
   "id": "amateur-cabinet",
   "metadata": {},
   "outputs": [
    {
     "data": {
      "text/plain": [
       "0.625"
      ]
     },
     "execution_count": 22,
     "metadata": {},
     "output_type": "execute_result"
    }
   ],
   "source": [
    "recall_score(y_val_onmk, onmk_pred)"
   ]
  },
  {
   "cell_type": "code",
   "execution_count": 23,
   "id": "matched-prince",
   "metadata": {},
   "outputs": [
    {
     "name": "stderr",
     "output_type": "stream",
     "text": [
      "100%|████████████████████████████████████████████████████████████████████████████████████████████| 50/50 [00:02<00:00, 20.09it/s]\n"
     ]
    }
   ],
   "source": [
    "for _ in trange(50):\n",
    "    model_lgbm_sten.fit(train_sten, y_sten)"
   ]
  },
  {
   "cell_type": "code",
   "execution_count": 24,
   "id": "sorted-railway",
   "metadata": {},
   "outputs": [
    {
     "name": "stderr",
     "output_type": "stream",
     "text": [
      "100%|███████████████████████████████████████████████████████████████████████████████████████████| 50/50 [00:00<00:00, 402.51it/s]\n"
     ]
    }
   ],
   "source": [
    "for _ in trange(50):\n",
    "    sten_pred = model_lgbm_sten.predict(val_sten)"
   ]
  },
  {
   "cell_type": "markdown",
   "id": "useful-authentication",
   "metadata": {},
   "source": [
    "Recall для стенокардии, ИБС и инфаркта миокарда."
   ]
  },
  {
   "cell_type": "code",
   "execution_count": 25,
   "id": "green-german",
   "metadata": {},
   "outputs": [
    {
     "data": {
      "text/plain": [
       "0.64"
      ]
     },
     "execution_count": 25,
     "metadata": {},
     "output_type": "execute_result"
    }
   ],
   "source": [
    "recall_score(y_val_sten, sten_pred)"
   ]
  },
  {
   "cell_type": "code",
   "execution_count": 26,
   "id": "least-australian",
   "metadata": {},
   "outputs": [
    {
     "name": "stderr",
     "output_type": "stream",
     "text": [
      "100%|████████████████████████████████████████████████████████████████████████████████████████████| 50/50 [00:03<00:00, 14.42it/s]\n"
     ]
    }
   ],
   "source": [
    "for _ in trange(50):\n",
    "    model_lgbm_serd_ned.fit(train_serd_ned, y_serd_ned)"
   ]
  },
  {
   "cell_type": "code",
   "execution_count": 27,
   "id": "running-impact",
   "metadata": {},
   "outputs": [
    {
     "name": "stderr",
     "output_type": "stream",
     "text": [
      "100%|███████████████████████████████████████████████████████████████████████████████████████████| 50/50 [00:00<00:00, 398.44it/s]\n"
     ]
    }
   ],
   "source": [
    "for _ in trange(50):\n",
    "    serd_ned_pred = model_lgbm_serd_ned.predict(val_serd_ned)"
   ]
  },
  {
   "cell_type": "markdown",
   "id": "ideal-rider",
   "metadata": {},
   "source": [
    "Recall для сердечной недостаточности."
   ]
  },
  {
   "cell_type": "code",
   "execution_count": 28,
   "id": "decreased-queen",
   "metadata": {},
   "outputs": [
    {
     "data": {
      "text/plain": [
       "0.75"
      ]
     },
     "execution_count": 28,
     "metadata": {},
     "output_type": "execute_result"
    }
   ],
   "source": [
    "recall_score(y_val_serd_ned, serd_ned_pred)"
   ]
  },
  {
   "cell_type": "code",
   "execution_count": 29,
   "id": "subject-valentine",
   "metadata": {},
   "outputs": [
    {
     "name": "stderr",
     "output_type": "stream",
     "text": [
      "100%|████████████████████████████████████████████████████████████████████████████████████████████| 50/50 [00:01<00:00, 46.98it/s]\n"
     ]
    }
   ],
   "source": [
    "for _ in trange(50):\n",
    "    model_lgbm_prochee.fit(train_prochee, y_prochee)"
   ]
  },
  {
   "cell_type": "code",
   "execution_count": 30,
   "id": "recovered-arthritis",
   "metadata": {},
   "outputs": [
    {
     "name": "stderr",
     "output_type": "stream",
     "text": [
      "100%|███████████████████████████████████████████████████████████████████████████████████████████| 50/50 [00:00<00:00, 480.77it/s]\n"
     ]
    }
   ],
   "source": [
    "for _ in trange(50):\n",
    "    prochee_pred = model_lgbm_prochee.predict(val_prochee)"
   ]
  },
  {
   "cell_type": "markdown",
   "id": "varying-decimal",
   "metadata": {},
   "source": [
    "Recall для прочих заболеваний сердца."
   ]
  },
  {
   "cell_type": "code",
   "execution_count": 31,
   "id": "relative-requirement",
   "metadata": {},
   "outputs": [
    {
     "data": {
      "text/plain": [
       "0.8461538461538461"
      ]
     },
     "execution_count": 31,
     "metadata": {},
     "output_type": "execute_result"
    }
   ],
   "source": [
    "recall_score(y_val_prochee, prochee_pred)"
   ]
  },
  {
   "cell_type": "markdown",
   "id": "headed-belarus",
   "metadata": {},
   "source": [
    "Получим предсказания для тестового датасета."
   ]
  },
  {
   "cell_type": "code",
   "execution_count": 32,
   "id": "genetic-brown",
   "metadata": {},
   "outputs": [],
   "source": [
    "test = get_clean_df(test, sex, family, education, ethnos, profession, nationality, religion)"
   ]
  },
  {
   "cell_type": "code",
   "execution_count": 33,
   "id": "attractive-clark",
   "metadata": {},
   "outputs": [],
   "source": [
    "test_gipertenizia = test[feats_gipertenzia]\n",
    "\n",
    "test_onmk = test[feats_onmk]\n",
    "\n",
    "test_sten = test[feats_stenokardia]\n",
    "\n",
    "test_serd_ned = test[feats_serd_ned]\n",
    "\n",
    "test_prochee = test[feats_prochee]"
   ]
  },
  {
   "cell_type": "code",
   "execution_count": 34,
   "id": "ranking-biotechnology",
   "metadata": {},
   "outputs": [
    {
     "name": "stderr",
     "output_type": "stream",
     "text": [
      "100%|███████████████████████████████████████████████████████████████████████████████████████████| 50/50 [00:00<00:00, 215.52it/s]\n"
     ]
    }
   ],
   "source": [
    "for _ in trange(50):\n",
    "    test_gip_pred = model_lgbm_gip.predict(test_gipertenizia)"
   ]
  },
  {
   "cell_type": "code",
   "execution_count": 35,
   "id": "suspected-cholesterol",
   "metadata": {},
   "outputs": [
    {
     "name": "stderr",
     "output_type": "stream",
     "text": [
      "100%|███████████████████████████████████████████████████████████████████████████████████████████| 50/50 [00:00<00:00, 297.62it/s]\n"
     ]
    }
   ],
   "source": [
    "for _ in trange(50):\n",
    "    test_onmk_pred = model_lgbm_onmk.predict(test_onmk)"
   ]
  },
  {
   "cell_type": "code",
   "execution_count": 36,
   "id": "moved-party",
   "metadata": {},
   "outputs": [
    {
     "name": "stderr",
     "output_type": "stream",
     "text": [
      "100%|███████████████████████████████████████████████████████████████████████████████████████████| 50/50 [00:00<00:00, 250.00it/s]\n"
     ]
    }
   ],
   "source": [
    "for _ in trange(50):\n",
    "    test_sten_pred = model_lgbm_sten.predict(test_sten)"
   ]
  },
  {
   "cell_type": "code",
   "execution_count": 37,
   "id": "historical-short",
   "metadata": {},
   "outputs": [
    {
     "name": "stderr",
     "output_type": "stream",
     "text": [
      "100%|███████████████████████████████████████████████████████████████████████████████████████████| 50/50 [00:00<00:00, 207.46it/s]\n"
     ]
    }
   ],
   "source": [
    "for _ in trange(50):\n",
    "    test_serd_ned_pred = model_lgbm_serd_ned.predict(test_serd_ned)"
   ]
  },
  {
   "cell_type": "code",
   "execution_count": 38,
   "id": "considered-interest",
   "metadata": {},
   "outputs": [
    {
     "name": "stderr",
     "output_type": "stream",
     "text": [
      "100%|███████████████████████████████████████████████████████████████████████████████████████████| 50/50 [00:00<00:00, 367.65it/s]\n"
     ]
    }
   ],
   "source": [
    "for _ in trange(50):\n",
    "    test_prochee_pred = model_lgbm_prochee.predict(test_prochee)"
   ]
  },
  {
   "cell_type": "code",
   "execution_count": 39,
   "id": "falling-chart",
   "metadata": {},
   "outputs": [
    {
     "data": {
      "text/html": [
       "<div>\n",
       "<style scoped>\n",
       "    .dataframe tbody tr th:only-of-type {\n",
       "        vertical-align: middle;\n",
       "    }\n",
       "\n",
       "    .dataframe tbody tr th {\n",
       "        vertical-align: top;\n",
       "    }\n",
       "\n",
       "    .dataframe thead th {\n",
       "        text-align: right;\n",
       "    }\n",
       "</style>\n",
       "<table border=\"1\" class=\"dataframe\">\n",
       "  <thead>\n",
       "    <tr style=\"text-align: right;\">\n",
       "      <th></th>\n",
       "      <th>ID</th>\n",
       "      <th>Артериальная гипертензия</th>\n",
       "      <th>ОНМК</th>\n",
       "      <th>Стенокардия, ИБС, инфаркт миокарда</th>\n",
       "      <th>Сердечная недостаточность</th>\n",
       "      <th>Прочие заболевания сердца</th>\n",
       "    </tr>\n",
       "  </thead>\n",
       "  <tbody>\n",
       "    <tr>\n",
       "      <th>0</th>\n",
       "      <td>54-001-019-01</td>\n",
       "      <td>1</td>\n",
       "      <td>1</td>\n",
       "      <td>1</td>\n",
       "      <td>1</td>\n",
       "      <td>1</td>\n",
       "    </tr>\n",
       "    <tr>\n",
       "      <th>1</th>\n",
       "      <td>54-002-133-01</td>\n",
       "      <td>1</td>\n",
       "      <td>1</td>\n",
       "      <td>1</td>\n",
       "      <td>1</td>\n",
       "      <td>1</td>\n",
       "    </tr>\n",
       "    <tr>\n",
       "      <th>2</th>\n",
       "      <td>54-001-007-01</td>\n",
       "      <td>1</td>\n",
       "      <td>1</td>\n",
       "      <td>1</td>\n",
       "      <td>1</td>\n",
       "      <td>1</td>\n",
       "    </tr>\n",
       "    <tr>\n",
       "      <th>3</th>\n",
       "      <td>54-102-116-01</td>\n",
       "      <td>0</td>\n",
       "      <td>0</td>\n",
       "      <td>0</td>\n",
       "      <td>0</td>\n",
       "      <td>0</td>\n",
       "    </tr>\n",
       "    <tr>\n",
       "      <th>4</th>\n",
       "      <td>54-502-005-02</td>\n",
       "      <td>1</td>\n",
       "      <td>1</td>\n",
       "      <td>1</td>\n",
       "      <td>1</td>\n",
       "      <td>1</td>\n",
       "    </tr>\n",
       "  </tbody>\n",
       "</table>\n",
       "</div>"
      ],
      "text/plain": [
       "              ID  Артериальная гипертензия  ОНМК  \\\n",
       "0  54-001-019-01                         1     1   \n",
       "1  54-002-133-01                         1     1   \n",
       "2  54-001-007-01                         1     1   \n",
       "3  54-102-116-01                         0     0   \n",
       "4  54-502-005-02                         1     1   \n",
       "\n",
       "   Стенокардия, ИБС, инфаркт миокарда  Сердечная недостаточность  \\\n",
       "0                                   1                          1   \n",
       "1                                   1                          1   \n",
       "2                                   1                          1   \n",
       "3                                   0                          0   \n",
       "4                                   1                          1   \n",
       "\n",
       "   Прочие заболевания сердца  \n",
       "0                          1  \n",
       "1                          1  \n",
       "2                          1  \n",
       "3                          0  \n",
       "4                          1  "
      ]
     },
     "execution_count": 39,
     "metadata": {},
     "output_type": "execute_result"
    }
   ],
   "source": [
    "shu_pred_gip = pd.DataFrame(data=test_gip_pred, columns=['Артериальная гипертензия'])\n",
    "\n",
    "shu_pred_onmk = pd.DataFrame(data=test_onmk_pred, columns=['ОНМК'])\n",
    "\n",
    "shu_pred_sten = pd.DataFrame(data=test_sten_pred, columns=['Стенокардия, ИБС, инфаркт миокарда'])\n",
    "\n",
    "shu_pred_serd_ned = pd.DataFrame(data=test_serd_ned_pred, columns=['Сердечная недостаточность'])\n",
    "\n",
    "shu_pred_prochee = pd.DataFrame(data=test_prochee_pred, columns=['Прочие заболевания сердца'])\n",
    "\n",
    "shu_prediction = test['ID']\n",
    "shu_prediction = pd.DataFrame(shu_prediction)\n",
    "\n",
    "shu_prediction = pd.concat([shu_prediction, shu_pred_gip, shu_pred_onmk, shu_pred_sten, shu_pred_serd_ned, shu_pred_prochee], \n",
    "                           axis=1)\n",
    "shu_prediction.head(5)"
   ]
  },
  {
   "cell_type": "code",
   "execution_count": null,
   "id": "entire-filter",
   "metadata": {},
   "outputs": [],
   "source": []
  }
 ],
 "metadata": {
  "kernelspec": {
   "display_name": "Python 3",
   "language": "python",
   "name": "python3"
  },
  "language_info": {
   "codemirror_mode": {
    "name": "ipython",
    "version": 3
   },
   "file_extension": ".py",
   "mimetype": "text/x-python",
   "name": "python",
   "nbconvert_exporter": "python",
   "pygments_lexer": "ipython3",
   "version": "3.8.8"
  }
 },
 "nbformat": 4,
 "nbformat_minor": 5
}
